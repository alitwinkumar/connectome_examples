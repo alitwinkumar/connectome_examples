{
 "cells": [
  {
   "cell_type": "code",
   "execution_count": 14,
   "metadata": {},
   "outputs": [],
   "source": [
    "# GNN \n",
    "import torch\n",
    "import torch_geometric\n",
    "from torch_geometric.nn import GCNConv\n",
    "from torch_geometric.utils.convert import from_networkx\n",
    "\n",
    "# Data handling \n",
    "import networkx as nx\n",
    "import numpy as np\n",
    "import pandas as pd\n",
    "from connectome_loaders import load_flywire\n",
    "\n",
    "# Plotting\n",
    "import matplotlib.pyplot as plt"
   ]
  },
  {
   "cell_type": "markdown",
   "metadata": {},
   "source": [
    "### What are graph neural networks?"
   ]
  },
  {
   "cell_type": "markdown",
   "metadata": {},
   "source": [
    "A **Graph Neural Network (GNN)** is a type of deep learning model designed to operate on graph-structured data. Unlike traditional neural networks that process data in fixed-size vectors or arrays, GNNs are specifically adapted to process data that can be naturally described by graphs, such as social networks, molecular structures, and citation networks. There are three main groups of tasks that can be implemented with a GNN:\n",
    "\n",
    "1) **Node-level task**: Predicting the properties of nodes in the graph. Examples include classifying the type of each node in the graph.\n",
    "2) **Graph-level task**: Predicting the global properties of a whole graph. An example is predicting some property of molecular graph structures (i.e. odorant binding).\n",
    "3) **Edge-level task**: Predicting the properties of edges in the graph. Examples include predicting the existence, strength, or nature of relationships between nodes in the graph. \n",
    "\n",
    "In this notebook, you will implement an edge-level task, **link prediction**, on a portion of the FlyWire connectome graph. "
   ]
  },
  {
   "cell_type": "markdown",
   "metadata": {},
   "source": [
    "### Input data\n",
    "The input to a GNN is a graph structure composed of node attributes, edge attributes, and global graph attributes. \n",
    "\n",
    "Our first goal is to wrangle the FlyWire dataset into a graph format suitable for a GNN. We will use the data loaders in the connectome_tools package (TODO: link) to load in the list of FlyWire neurons."
   ]
  },
  {
   "cell_type": "code",
   "execution_count": 3,
   "metadata": {},
   "outputs": [
    {
     "data": {
      "text/html": [
       "<div>\n",
       "<style scoped>\n",
       "    .dataframe tbody tr th:only-of-type {\n",
       "        vertical-align: middle;\n",
       "    }\n",
       "\n",
       "    .dataframe tbody tr th {\n",
       "        vertical-align: top;\n",
       "    }\n",
       "\n",
       "    .dataframe thead th {\n",
       "        text-align: right;\n",
       "    }\n",
       "</style>\n",
       "<table border=\"1\" class=\"dataframe\">\n",
       "  <thead>\n",
       "    <tr style=\"text-align: right;\">\n",
       "      <th></th>\n",
       "      <th>root_id</th>\n",
       "      <th>group</th>\n",
       "      <th>nt_type</th>\n",
       "      <th>nt_type_score</th>\n",
       "      <th>da_avg</th>\n",
       "      <th>ser_avg</th>\n",
       "      <th>gaba_avg</th>\n",
       "      <th>glut_avg</th>\n",
       "      <th>ach_avg</th>\n",
       "      <th>oct_avg</th>\n",
       "      <th>...</th>\n",
       "      <th>class</th>\n",
       "      <th>sub_class</th>\n",
       "      <th>cell_type</th>\n",
       "      <th>hemibrain_type</th>\n",
       "      <th>hemilineage</th>\n",
       "      <th>side</th>\n",
       "      <th>nerve</th>\n",
       "      <th>J_idx</th>\n",
       "      <th>J_idx_post</th>\n",
       "      <th>J_idx_pre</th>\n",
       "    </tr>\n",
       "  </thead>\n",
       "  <tbody>\n",
       "    <tr>\n",
       "      <th>0</th>\n",
       "      <td>720575940596125868</td>\n",
       "      <td>LO.LOP</td>\n",
       "      <td>ACH</td>\n",
       "      <td>0.57</td>\n",
       "      <td>0.03</td>\n",
       "      <td>0.00</td>\n",
       "      <td>0.05</td>\n",
       "      <td>0.28</td>\n",
       "      <td>0.57</td>\n",
       "      <td>0.07</td>\n",
       "      <td>...</td>\n",
       "      <td>NaN</td>\n",
       "      <td>NaN</td>\n",
       "      <td>T5c</td>\n",
       "      <td>NaN</td>\n",
       "      <td>NaN</td>\n",
       "      <td>right</td>\n",
       "      <td>NaN</td>\n",
       "      <td>0</td>\n",
       "      <td>0</td>\n",
       "      <td>0</td>\n",
       "    </tr>\n",
       "    <tr>\n",
       "      <th>1</th>\n",
       "      <td>720575940597856265</td>\n",
       "      <td>ME</td>\n",
       "      <td>ACH</td>\n",
       "      <td>0.85</td>\n",
       "      <td>0.01</td>\n",
       "      <td>0.00</td>\n",
       "      <td>0.03</td>\n",
       "      <td>0.04</td>\n",
       "      <td>0.85</td>\n",
       "      <td>0.07</td>\n",
       "      <td>...</td>\n",
       "      <td>NaN</td>\n",
       "      <td>NaN</td>\n",
       "      <td>Tm16</td>\n",
       "      <td>NaN</td>\n",
       "      <td>NaN</td>\n",
       "      <td>right</td>\n",
       "      <td>NaN</td>\n",
       "      <td>1</td>\n",
       "      <td>1</td>\n",
       "      <td>1</td>\n",
       "    </tr>\n",
       "    <tr>\n",
       "      <th>2</th>\n",
       "      <td>720575940597944841</td>\n",
       "      <td>ME.LO</td>\n",
       "      <td>ACH</td>\n",
       "      <td>0.82</td>\n",
       "      <td>0.02</td>\n",
       "      <td>0.00</td>\n",
       "      <td>0.01</td>\n",
       "      <td>0.05</td>\n",
       "      <td>0.82</td>\n",
       "      <td>0.09</td>\n",
       "      <td>...</td>\n",
       "      <td>NaN</td>\n",
       "      <td>NaN</td>\n",
       "      <td>CB3851</td>\n",
       "      <td>NaN</td>\n",
       "      <td>NaN</td>\n",
       "      <td>right</td>\n",
       "      <td>NaN</td>\n",
       "      <td>2</td>\n",
       "      <td>2</td>\n",
       "      <td>2</td>\n",
       "    </tr>\n",
       "    <tr>\n",
       "      <th>3</th>\n",
       "      <td>720575940598267657</td>\n",
       "      <td>ME</td>\n",
       "      <td>GABA</td>\n",
       "      <td>0.74</td>\n",
       "      <td>0.01</td>\n",
       "      <td>0.01</td>\n",
       "      <td>0.74</td>\n",
       "      <td>0.19</td>\n",
       "      <td>0.03</td>\n",
       "      <td>0.02</td>\n",
       "      <td>...</td>\n",
       "      <td>NaN</td>\n",
       "      <td>NaN</td>\n",
       "      <td>TmY15</td>\n",
       "      <td>NaN</td>\n",
       "      <td>NaN</td>\n",
       "      <td>right</td>\n",
       "      <td>NaN</td>\n",
       "      <td>3</td>\n",
       "      <td>3</td>\n",
       "      <td>3</td>\n",
       "    </tr>\n",
       "    <tr>\n",
       "      <th>4</th>\n",
       "      <td>720575940599333574</td>\n",
       "      <td>ME</td>\n",
       "      <td>ACH</td>\n",
       "      <td>0.61</td>\n",
       "      <td>0.02</td>\n",
       "      <td>0.00</td>\n",
       "      <td>0.13</td>\n",
       "      <td>0.13</td>\n",
       "      <td>0.61</td>\n",
       "      <td>0.11</td>\n",
       "      <td>...</td>\n",
       "      <td>NaN</td>\n",
       "      <td>NaN</td>\n",
       "      <td>Tm1</td>\n",
       "      <td>NaN</td>\n",
       "      <td>NaN</td>\n",
       "      <td>right</td>\n",
       "      <td>NaN</td>\n",
       "      <td>4</td>\n",
       "      <td>4</td>\n",
       "      <td>4</td>\n",
       "    </tr>\n",
       "    <tr>\n",
       "      <th>...</th>\n",
       "      <td>...</td>\n",
       "      <td>...</td>\n",
       "      <td>...</td>\n",
       "      <td>...</td>\n",
       "      <td>...</td>\n",
       "      <td>...</td>\n",
       "      <td>...</td>\n",
       "      <td>...</td>\n",
       "      <td>...</td>\n",
       "      <td>...</td>\n",
       "      <td>...</td>\n",
       "      <td>...</td>\n",
       "      <td>...</td>\n",
       "      <td>...</td>\n",
       "      <td>...</td>\n",
       "      <td>...</td>\n",
       "      <td>...</td>\n",
       "      <td>...</td>\n",
       "      <td>...</td>\n",
       "      <td>...</td>\n",
       "      <td>...</td>\n",
       "    </tr>\n",
       "    <tr>\n",
       "      <th>139250</th>\n",
       "      <td>720575940661335681</td>\n",
       "      <td>GNG</td>\n",
       "      <td>GABA</td>\n",
       "      <td>0.71</td>\n",
       "      <td>0.00</td>\n",
       "      <td>0.00</td>\n",
       "      <td>0.71</td>\n",
       "      <td>0.17</td>\n",
       "      <td>0.11</td>\n",
       "      <td>0.00</td>\n",
       "      <td>...</td>\n",
       "      <td>NaN</td>\n",
       "      <td>NaN</td>\n",
       "      <td>CB0180</td>\n",
       "      <td>NaN</td>\n",
       "      <td>MX12__prim</td>\n",
       "      <td>left</td>\n",
       "      <td>NaN</td>\n",
       "      <td>139250</td>\n",
       "      <td>139250</td>\n",
       "      <td>139250</td>\n",
       "    </tr>\n",
       "    <tr>\n",
       "      <th>139251</th>\n",
       "      <td>720575940661336193</td>\n",
       "      <td>ME.LO</td>\n",
       "      <td>ACH</td>\n",
       "      <td>0.62</td>\n",
       "      <td>0.02</td>\n",
       "      <td>0.00</td>\n",
       "      <td>0.18</td>\n",
       "      <td>0.16</td>\n",
       "      <td>0.62</td>\n",
       "      <td>0.03</td>\n",
       "      <td>...</td>\n",
       "      <td>NaN</td>\n",
       "      <td>NaN</td>\n",
       "      <td>TmY3</td>\n",
       "      <td>NaN</td>\n",
       "      <td>NaN</td>\n",
       "      <td>left</td>\n",
       "      <td>NaN</td>\n",
       "      <td>139251</td>\n",
       "      <td>139251</td>\n",
       "      <td>139251</td>\n",
       "    </tr>\n",
       "    <tr>\n",
       "      <th>139252</th>\n",
       "      <td>720575940661337217</td>\n",
       "      <td>SCL.MB_ML</td>\n",
       "      <td>ACH</td>\n",
       "      <td>1.00</td>\n",
       "      <td>0.00</td>\n",
       "      <td>0.00</td>\n",
       "      <td>0.00</td>\n",
       "      <td>0.00</td>\n",
       "      <td>1.00</td>\n",
       "      <td>0.00</td>\n",
       "      <td>...</td>\n",
       "      <td>Kenyon_Cell</td>\n",
       "      <td>NaN</td>\n",
       "      <td>NaN</td>\n",
       "      <td>KCab-p</td>\n",
       "      <td>MBp4</td>\n",
       "      <td>left</td>\n",
       "      <td>NaN</td>\n",
       "      <td>139252</td>\n",
       "      <td>139252</td>\n",
       "      <td>139252</td>\n",
       "    </tr>\n",
       "    <tr>\n",
       "      <th>139253</th>\n",
       "      <td>720575940661338497</td>\n",
       "      <td>GNG</td>\n",
       "      <td>NaN</td>\n",
       "      <td>0.00</td>\n",
       "      <td>0.00</td>\n",
       "      <td>0.00</td>\n",
       "      <td>0.00</td>\n",
       "      <td>0.00</td>\n",
       "      <td>0.00</td>\n",
       "      <td>0.00</td>\n",
       "      <td>...</td>\n",
       "      <td>NaN</td>\n",
       "      <td>NaN</td>\n",
       "      <td>CB0904</td>\n",
       "      <td>NaN</td>\n",
       "      <td>putative_primary</td>\n",
       "      <td>right</td>\n",
       "      <td>PhN</td>\n",
       "      <td>139253</td>\n",
       "      <td>139253</td>\n",
       "      <td>139253</td>\n",
       "    </tr>\n",
       "    <tr>\n",
       "      <th>139254</th>\n",
       "      <td>720575940661339777</td>\n",
       "      <td>NO_CONS</td>\n",
       "      <td>NaN</td>\n",
       "      <td>0.00</td>\n",
       "      <td>0.00</td>\n",
       "      <td>0.00</td>\n",
       "      <td>0.00</td>\n",
       "      <td>0.00</td>\n",
       "      <td>0.00</td>\n",
       "      <td>0.00</td>\n",
       "      <td>...</td>\n",
       "      <td>visual</td>\n",
       "      <td>NaN</td>\n",
       "      <td>R1-6</td>\n",
       "      <td>NaN</td>\n",
       "      <td>NaN</td>\n",
       "      <td>right</td>\n",
       "      <td>NaN</td>\n",
       "      <td>139254</td>\n",
       "      <td>139254</td>\n",
       "      <td>139254</td>\n",
       "    </tr>\n",
       "  </tbody>\n",
       "</table>\n",
       "<p>139255 rows × 22 columns</p>\n",
       "</div>"
      ],
      "text/plain": [
       "                   root_id      group nt_type  nt_type_score  da_avg  ser_avg  \\\n",
       "0       720575940596125868     LO.LOP     ACH           0.57    0.03     0.00   \n",
       "1       720575940597856265         ME     ACH           0.85    0.01     0.00   \n",
       "2       720575940597944841      ME.LO     ACH           0.82    0.02     0.00   \n",
       "3       720575940598267657         ME    GABA           0.74    0.01     0.01   \n",
       "4       720575940599333574         ME     ACH           0.61    0.02     0.00   \n",
       "...                    ...        ...     ...            ...     ...      ...   \n",
       "139250  720575940661335681        GNG    GABA           0.71    0.00     0.00   \n",
       "139251  720575940661336193      ME.LO     ACH           0.62    0.02     0.00   \n",
       "139252  720575940661337217  SCL.MB_ML     ACH           1.00    0.00     0.00   \n",
       "139253  720575940661338497        GNG     NaN           0.00    0.00     0.00   \n",
       "139254  720575940661339777    NO_CONS     NaN           0.00    0.00     0.00   \n",
       "\n",
       "        gaba_avg  glut_avg  ach_avg  oct_avg  ...        class sub_class  \\\n",
       "0           0.05      0.28     0.57     0.07  ...          NaN       NaN   \n",
       "1           0.03      0.04     0.85     0.07  ...          NaN       NaN   \n",
       "2           0.01      0.05     0.82     0.09  ...          NaN       NaN   \n",
       "3           0.74      0.19     0.03     0.02  ...          NaN       NaN   \n",
       "4           0.13      0.13     0.61     0.11  ...          NaN       NaN   \n",
       "...          ...       ...      ...      ...  ...          ...       ...   \n",
       "139250      0.71      0.17     0.11     0.00  ...          NaN       NaN   \n",
       "139251      0.18      0.16     0.62     0.03  ...          NaN       NaN   \n",
       "139252      0.00      0.00     1.00     0.00  ...  Kenyon_Cell       NaN   \n",
       "139253      0.00      0.00     0.00     0.00  ...          NaN       NaN   \n",
       "139254      0.00      0.00     0.00     0.00  ...       visual       NaN   \n",
       "\n",
       "       cell_type hemibrain_type       hemilineage   side nerve   J_idx  \\\n",
       "0            T5c            NaN               NaN  right   NaN       0   \n",
       "1           Tm16            NaN               NaN  right   NaN       1   \n",
       "2         CB3851            NaN               NaN  right   NaN       2   \n",
       "3          TmY15            NaN               NaN  right   NaN       3   \n",
       "4            Tm1            NaN               NaN  right   NaN       4   \n",
       "...          ...            ...               ...    ...   ...     ...   \n",
       "139250    CB0180            NaN        MX12__prim   left   NaN  139250   \n",
       "139251      TmY3            NaN               NaN   left   NaN  139251   \n",
       "139252       NaN         KCab-p              MBp4   left   NaN  139252   \n",
       "139253    CB0904            NaN  putative_primary  right   PhN  139253   \n",
       "139254      R1-6            NaN               NaN  right   NaN  139254   \n",
       "\n",
       "       J_idx_post  J_idx_pre  \n",
       "0               0          0  \n",
       "1               1          1  \n",
       "2               2          2  \n",
       "3               3          3  \n",
       "4               4          4  \n",
       "...           ...        ...  \n",
       "139250     139250     139250  \n",
       "139251     139251     139251  \n",
       "139252     139252     139252  \n",
       "139253     139253     139253  \n",
       "139254     139254     139254  \n",
       "\n",
       "[139255 rows x 22 columns]"
      ]
     },
     "execution_count": 3,
     "metadata": {},
     "output_type": "execute_result"
    }
   ],
   "source": [
    "# Use connectome_loaders to import FlyWire neurons \n",
    "neurons, _ = load_flywire('FlyWire_data/') # datapath to FlyWire \n",
    "neurons"
   ]
  },
  {
   "cell_type": "markdown",
   "metadata": {},
   "source": [
    "Then, we will import the FlyWire connectivity data in the format of an edgelist. In this table, each row represents a connection between a pair of FlyWire neurons, or an edge between this pair in our input graph. The strength of the connection is taken to be the number of synapses between this pair of neurons, which is given in the \"syn_count\" column. "
   ]
  },
  {
   "cell_type": "code",
   "execution_count": 4,
   "metadata": {},
   "outputs": [
    {
     "data": {
      "text/html": [
       "<div>\n",
       "<style scoped>\n",
       "    .dataframe tbody tr th:only-of-type {\n",
       "        vertical-align: middle;\n",
       "    }\n",
       "\n",
       "    .dataframe tbody tr th {\n",
       "        vertical-align: top;\n",
       "    }\n",
       "\n",
       "    .dataframe thead th {\n",
       "        text-align: right;\n",
       "    }\n",
       "</style>\n",
       "<table border=\"1\" class=\"dataframe\">\n",
       "  <thead>\n",
       "    <tr style=\"text-align: right;\">\n",
       "      <th></th>\n",
       "      <th>pre_root_id</th>\n",
       "      <th>post_root_id</th>\n",
       "      <th>neuropil</th>\n",
       "      <th>syn_count</th>\n",
       "      <th>nt_type</th>\n",
       "    </tr>\n",
       "  </thead>\n",
       "  <tbody>\n",
       "    <tr>\n",
       "      <th>0</th>\n",
       "      <td>720575940629970489</td>\n",
       "      <td>720575940631267655</td>\n",
       "      <td>AVLP_R</td>\n",
       "      <td>7</td>\n",
       "      <td>GABA</td>\n",
       "    </tr>\n",
       "    <tr>\n",
       "      <th>1</th>\n",
       "      <td>720575940605876866</td>\n",
       "      <td>720575940606514878</td>\n",
       "      <td>LAL_R</td>\n",
       "      <td>15</td>\n",
       "      <td>GABA</td>\n",
       "    </tr>\n",
       "    <tr>\n",
       "      <th>2</th>\n",
       "      <td>720575940627737365</td>\n",
       "      <td>720575940628914436</td>\n",
       "      <td>AL_L</td>\n",
       "      <td>32</td>\n",
       "      <td>ACH</td>\n",
       "    </tr>\n",
       "    <tr>\n",
       "      <th>3</th>\n",
       "      <td>720575940633587552</td>\n",
       "      <td>720575940626452879</td>\n",
       "      <td>SMP_R</td>\n",
       "      <td>15</td>\n",
       "      <td>ACH</td>\n",
       "    </tr>\n",
       "    <tr>\n",
       "      <th>4</th>\n",
       "      <td>720575940616871878</td>\n",
       "      <td>720575940621203973</td>\n",
       "      <td>AVLP_L</td>\n",
       "      <td>13</td>\n",
       "      <td>GABA</td>\n",
       "    </tr>\n",
       "    <tr>\n",
       "      <th>...</th>\n",
       "      <td>...</td>\n",
       "      <td>...</td>\n",
       "      <td>...</td>\n",
       "      <td>...</td>\n",
       "      <td>...</td>\n",
       "    </tr>\n",
       "    <tr>\n",
       "      <th>3869873</th>\n",
       "      <td>720575940621773517</td>\n",
       "      <td>720575940611139733</td>\n",
       "      <td>PVLP_R</td>\n",
       "      <td>1</td>\n",
       "      <td>ACH</td>\n",
       "    </tr>\n",
       "    <tr>\n",
       "      <th>3869874</th>\n",
       "      <td>720575940622734576</td>\n",
       "      <td>720575940609171395</td>\n",
       "      <td>ICL_L</td>\n",
       "      <td>2</td>\n",
       "      <td>ACH</td>\n",
       "    </tr>\n",
       "    <tr>\n",
       "      <th>3869875</th>\n",
       "      <td>720575940638466367</td>\n",
       "      <td>720575940627036426</td>\n",
       "      <td>LO_L</td>\n",
       "      <td>5</td>\n",
       "      <td>ACH</td>\n",
       "    </tr>\n",
       "    <tr>\n",
       "      <th>3869876</th>\n",
       "      <td>720575940629789660</td>\n",
       "      <td>720575940631553603</td>\n",
       "      <td>GOR_R</td>\n",
       "      <td>3</td>\n",
       "      <td>ACH</td>\n",
       "    </tr>\n",
       "    <tr>\n",
       "      <th>3869877</th>\n",
       "      <td>720575940624054792</td>\n",
       "      <td>720575940634431935</td>\n",
       "      <td>ICL_L</td>\n",
       "      <td>5</td>\n",
       "      <td>ACH</td>\n",
       "    </tr>\n",
       "  </tbody>\n",
       "</table>\n",
       "<p>3869878 rows × 5 columns</p>\n",
       "</div>"
      ],
      "text/plain": [
       "                pre_root_id        post_root_id neuropil  syn_count nt_type\n",
       "0        720575940629970489  720575940631267655   AVLP_R          7    GABA\n",
       "1        720575940605876866  720575940606514878    LAL_R         15    GABA\n",
       "2        720575940627737365  720575940628914436     AL_L         32     ACH\n",
       "3        720575940633587552  720575940626452879    SMP_R         15     ACH\n",
       "4        720575940616871878  720575940621203973   AVLP_L         13    GABA\n",
       "...                     ...                 ...      ...        ...     ...\n",
       "3869873  720575940621773517  720575940611139733   PVLP_R          1     ACH\n",
       "3869874  720575940622734576  720575940609171395    ICL_L          2     ACH\n",
       "3869875  720575940638466367  720575940627036426     LO_L          5     ACH\n",
       "3869876  720575940629789660  720575940631553603    GOR_R          3     ACH\n",
       "3869877  720575940624054792  720575940634431935    ICL_L          5     ACH\n",
       "\n",
       "[3869878 rows x 5 columns]"
      ]
     },
     "execution_count": 4,
     "metadata": {},
     "output_type": "execute_result"
    }
   ],
   "source": [
    "# Import FlyWire connections as an edgelist\n",
    "connections = pd.read_csv('FlyWire_data/connections.csv')\n",
    "connections"
   ]
  },
  {
   "cell_type": "markdown",
   "metadata": {},
   "source": [
    "Although we can deploy our GNN on the full FlyWire graph, this takes a long time to train. To speed things up, we are going to start with a subset of the FlyWire dataset. \n",
    "\n",
    "One option is to only look at neurons and their connections within a specific neuropil (brain region) of interest in the fly brain. In this tutorial, we are looking at neurons in the left lateral horn of the fly, a region implicated in innate odor behavior.  "
   ]
  },
  {
   "cell_type": "code",
   "execution_count": 5,
   "metadata": {},
   "outputs": [
    {
     "name": "stdout",
     "output_type": "stream",
     "text": [
      "Number of neurons in LH_L: 4067\n"
     ]
    }
   ],
   "source": [
    "# Restrict dataset to a specific neuropil \n",
    "neuropil_of_interest = 'LH_L'\n",
    "connections = connections[connections['neuropil'] == neuropil_of_interest] # Filter connections in edgelist by neuropil of interest\n",
    "\n",
    "lh_neurons = list(np.unique(list(connections['pre_root_id']) + list(connections['post_root_id']))) # Subselect neurons in neuropil of interest\n",
    "neurons = neurons[neurons['root_id'].isin(lh_neurons)]\n",
    "\n",
    "print('Number of neurons in ' + neuropil_of_interest + ': ' + str(len(neurons)))"
   ]
  },
  {
   "cell_type": "markdown",
   "metadata": {},
   "source": [
    "The nodes of our graph input will be the neurons, and the edges will be the connections between them. We will also include the following attributes:\n",
    "\n",
    " - Node attributes: The cell type of each neuron (this will be represented as a one-hot encoding)\n",
    " - Edge attributes: The strength of connectivity (synaptic count) of each connection\n",
    "\n",
    "This of course doesn't capture all of the rich metadata present in the FlyWire connectome. For example, you can play around with incorporating other metadata such as neurotransmitter identity or spatial information. \n",
    "\n",
    "TODO: illustration?"
   ]
  },
  {
   "cell_type": "code",
   "execution_count": 6,
   "metadata": {},
   "outputs": [],
   "source": [
    "all_neurons = list(neurons['root_id']) # List of neurons in graph\n",
    "all_neuron_types = list(neurons['cell_type']) # List of types for each neuron in graph\n",
    "\n",
    "# %%\n",
    "all_unique_types = np.array((neurons['cell_type'].unique())) # List of unique neuron types in graph"
   ]
  },
  {
   "cell_type": "code",
   "execution_count": 9,
   "metadata": {},
   "outputs": [],
   "source": [
    "# Node attributes: The cell type of each neuron (this will be represented as a one-hot encoding)\n",
    "# (num_nodes, num_feats)\n",
    "node_types = np.zeros((len(all_neurons), len(all_unique_types)))\n",
    "for i_neuron, neuron in enumerate(all_neurons):\n",
    "    i_type = np.where(all_unique_types == all_neuron_types[i_neuron])\n",
    "    assert len(i_type) == 1\n",
    "    node_types[i_neuron, i_type] = 1"
   ]
  },
  {
   "cell_type": "code",
   "execution_count": 8,
   "metadata": {},
   "outputs": [],
   "source": [
    "# Edge attributes: The strength of connectivity (synaptic count) of each connection\n",
    "connections = connections.astype({\"syn_count\": 'float32'})"
   ]
  },
  {
   "cell_type": "markdown",
   "metadata": {},
   "source": [
    "We are then going to create a graph object using a package called networkx [TODO: link]. Networkx has tools for representing and working with graph information as well as hundreds of implementations of popular graph algorithms (https://networkx.org/documentation/stable/reference/algorithms/index.html). We're doing this because the package we'll use to configure our GNN input can read a networkx graph easily in one line of code. "
   ]
  },
  {
   "cell_type": "code",
   "execution_count": 10,
   "metadata": {},
   "outputs": [],
   "source": [
    "# networkx graph -> PyTorch geometric object transformation is easy\n",
    "G = nx.DiGraph() # Initialize a networkx directed graph \n",
    "G = nx.from_pandas_edgelist(connections, 'pre_root_id', 'post_root_id', ['syn_count'], create_using=nx.DiGraph()) # Create a graph with our node and edge information"
   ]
  },
  {
   "cell_type": "markdown",
   "metadata": {},
   "source": [
    "### PyTorch Geometric (PyG)"
   ]
  },
  {
   "cell_type": "markdown",
   "metadata": {},
   "source": [
    "PyTorch Geometric (PyG) is a popular library for efficiently working with graph-structured data in deep learning, built on top of PyTorch. We will be using PyG to define our graph input as well as design, train, and evaluate our GNN model. \n",
    "\n",
    "We'll go over the basic functions and data structures in this notebook, but we highly suggest checking out the PyG documentation (https://pytorch-geometric.readthedocs.io/en/latest/) for an idea of how you can use PyG to build up GNNs. There are also some great tutorial notebooks specifically designed for learning PyG concepts here: https://pytorch-geometric.readthedocs.io/en/latest/get_started/colabs.html. "
   ]
  },
  {
   "cell_type": "markdown",
   "metadata": {},
   "source": [
    "The core data structure in PyG is the **'Data' (torch_geometric.data.Data) object**. It stores a single graph's information, including node-level attributes, edge-level attributes, and global graph-level attributes. We've already extracted the attributes we want to include above, so we are ready to construct our data object, called \"graph\".\n",
    "\n",
    "For more on what a 'Data' object holds, see https://pytorch-geometric.readthedocs.io/en/latest/get_started/introduction.html#data-handling-of-graphs or check out the help query below."
   ]
  },
  {
   "cell_type": "code",
   "execution_count": 15,
   "metadata": {},
   "outputs": [
    {
     "name": "stdout",
     "output_type": "stream",
     "text": [
      "\u001b[0;31mInit signature:\u001b[0m\n",
      "\u001b[0mtorch_geometric\u001b[0m\u001b[0;34m.\u001b[0m\u001b[0mdata\u001b[0m\u001b[0;34m.\u001b[0m\u001b[0mData\u001b[0m\u001b[0;34m(\u001b[0m\u001b[0;34m\u001b[0m\n",
      "\u001b[0;34m\u001b[0m    \u001b[0mx\u001b[0m\u001b[0;34m:\u001b[0m \u001b[0mOptional\u001b[0m\u001b[0;34m[\u001b[0m\u001b[0mtorch\u001b[0m\u001b[0;34m.\u001b[0m\u001b[0mTensor\u001b[0m\u001b[0;34m]\u001b[0m \u001b[0;34m=\u001b[0m \u001b[0;32mNone\u001b[0m\u001b[0;34m,\u001b[0m\u001b[0;34m\u001b[0m\n",
      "\u001b[0;34m\u001b[0m    \u001b[0medge_index\u001b[0m\u001b[0;34m:\u001b[0m \u001b[0mOptional\u001b[0m\u001b[0;34m[\u001b[0m\u001b[0mtorch\u001b[0m\u001b[0;34m.\u001b[0m\u001b[0mTensor\u001b[0m\u001b[0;34m]\u001b[0m \u001b[0;34m=\u001b[0m \u001b[0;32mNone\u001b[0m\u001b[0;34m,\u001b[0m\u001b[0;34m\u001b[0m\n",
      "\u001b[0;34m\u001b[0m    \u001b[0medge_attr\u001b[0m\u001b[0;34m:\u001b[0m \u001b[0mOptional\u001b[0m\u001b[0;34m[\u001b[0m\u001b[0mtorch\u001b[0m\u001b[0;34m.\u001b[0m\u001b[0mTensor\u001b[0m\u001b[0;34m]\u001b[0m \u001b[0;34m=\u001b[0m \u001b[0;32mNone\u001b[0m\u001b[0;34m,\u001b[0m\u001b[0;34m\u001b[0m\n",
      "\u001b[0;34m\u001b[0m    \u001b[0my\u001b[0m\u001b[0;34m:\u001b[0m \u001b[0mOptional\u001b[0m\u001b[0;34m[\u001b[0m\u001b[0mtorch\u001b[0m\u001b[0;34m.\u001b[0m\u001b[0mTensor\u001b[0m\u001b[0;34m]\u001b[0m \u001b[0;34m=\u001b[0m \u001b[0;32mNone\u001b[0m\u001b[0;34m,\u001b[0m\u001b[0;34m\u001b[0m\n",
      "\u001b[0;34m\u001b[0m    \u001b[0mpos\u001b[0m\u001b[0;34m:\u001b[0m \u001b[0mOptional\u001b[0m\u001b[0;34m[\u001b[0m\u001b[0mtorch\u001b[0m\u001b[0;34m.\u001b[0m\u001b[0mTensor\u001b[0m\u001b[0;34m]\u001b[0m \u001b[0;34m=\u001b[0m \u001b[0;32mNone\u001b[0m\u001b[0;34m,\u001b[0m\u001b[0;34m\u001b[0m\n",
      "\u001b[0;34m\u001b[0m    \u001b[0;34m**\u001b[0m\u001b[0mkwargs\u001b[0m\u001b[0;34m,\u001b[0m\u001b[0;34m\u001b[0m\n",
      "\u001b[0;34m\u001b[0m\u001b[0;34m)\u001b[0m\u001b[0;34m\u001b[0m\u001b[0;34m\u001b[0m\u001b[0m\n",
      "\u001b[0;31mDocstring:\u001b[0m     \n",
      "A data object describing a homogeneous graph.\n",
      "The data object can hold node-level, link-level and graph-level attributes.\n",
      "In general, :class:`~torch_geometric.data.Data` tries to mimic the\n",
      "behavior of a regular Python dictionary.\n",
      "In addition, it provides useful functionality for analyzing graph\n",
      "structures, and provides basic PyTorch tensor functionalities.\n",
      "See `here <https://pytorch-geometric.readthedocs.io/en/latest/get_started/\n",
      "introduction.html#data-handling-of-graphs>`__ for the accompanying\n",
      "tutorial.\n",
      "\n",
      ".. code-block:: python\n",
      "\n",
      "    from torch_geometric.data import Data\n",
      "\n",
      "    data = Data(x=x, edge_index=edge_index, ...)\n",
      "\n",
      "    # Add additional arguments to `data`:\n",
      "    data.train_idx = torch.tensor([...], dtype=torch.long)\n",
      "    data.test_mask = torch.tensor([...], dtype=torch.bool)\n",
      "\n",
      "    # Analyzing the graph structure:\n",
      "    data.num_nodes\n",
      "    >>> 23\n",
      "\n",
      "    data.is_directed()\n",
      "    >>> False\n",
      "\n",
      "    # PyTorch tensor functionality:\n",
      "    data = data.pin_memory()\n",
      "    data = data.to('cuda:0', non_blocking=True)\n",
      "\n",
      "Args:\n",
      "    x (torch.Tensor, optional): Node feature matrix with shape\n",
      "        :obj:`[num_nodes, num_node_features]`. (default: :obj:`None`)\n",
      "    edge_index (LongTensor, optional): Graph connectivity in COO format\n",
      "        with shape :obj:`[2, num_edges]`. (default: :obj:`None`)\n",
      "    edge_attr (torch.Tensor, optional): Edge feature matrix with shape\n",
      "        :obj:`[num_edges, num_edge_features]`. (default: :obj:`None`)\n",
      "    y (torch.Tensor, optional): Graph-level or node-level ground-truth\n",
      "        labels with arbitrary shape. (default: :obj:`None`)\n",
      "    pos (torch.Tensor, optional): Node position matrix with shape\n",
      "        :obj:`[num_nodes, num_dimensions]`. (default: :obj:`None`)\n",
      "    **kwargs (optional): Additional attributes.\n",
      "\u001b[0;31mFile:\u001b[0m           ~/miniconda3/envs/igtorch/lib/python3.10/site-packages/torch_geometric/data/data.py\n",
      "\u001b[0;31mType:\u001b[0m           type\n",
      "\u001b[0;31mSubclasses:\u001b[0m     RootedSubgraphData, Explanation, EgoData\n"
     ]
    }
   ],
   "source": [
    "# More information on the PyG Data object\n",
    "torch_geometric.data.Data?"
   ]
  },
  {
   "cell_type": "code",
   "execution_count": 8,
   "metadata": {},
   "outputs": [],
   "source": [
    "# Convert graph into PyTorch geometric object\n",
    "graph = from_networkx(G, group_edge_attrs=['syn_count']) # Add edge attributes from networkx graph\n",
    "\n",
    "graph.x = torch.from_numpy(node_types).float() # Add node attributes (one-hot encoded cell type)\n"
   ]
  },
  {
   "cell_type": "code",
   "execution_count": 9,
   "metadata": {},
   "outputs": [
    {
     "data": {
      "text/plain": [
       "tensor([[1., 0., 0.,  ..., 0., 0., 0.],\n",
       "        [0., 1., 0.,  ..., 0., 0., 0.],\n",
       "        [0., 0., 0.,  ..., 0., 0., 0.],\n",
       "        ...,\n",
       "        [0., 0., 0.,  ..., 0., 0., 0.],\n",
       "        [0., 0., 0.,  ..., 0., 0., 0.],\n",
       "        [0., 0., 0.,  ..., 0., 0., 0.]])"
      ]
     },
     "execution_count": 9,
     "metadata": {},
     "output_type": "execute_result"
    }
   ],
   "source": [
    "# Node attributes\n",
    "graph.x # One-hot encoded cell types"
   ]
  },
  {
   "cell_type": "code",
   "execution_count": 10,
   "metadata": {},
   "outputs": [
    {
     "data": {
      "text/plain": [
       "tensor([[   0,    1],\n",
       "        [   0,  698],\n",
       "        [   0, 1420],\n",
       "        ...,\n",
       "        [4040, 3293],\n",
       "        [4061, 1952],\n",
       "        [4066,  487]])"
      ]
     },
     "execution_count": 10,
     "metadata": {},
     "output_type": "execute_result"
    }
   ],
   "source": [
    "# Edge attributes: connectivity \n",
    "graph.edge_index.T # Edge indices (connectivity information)"
   ]
  },
  {
   "cell_type": "code",
   "execution_count": 11,
   "metadata": {},
   "outputs": [
    {
     "data": {
      "text/plain": [
       "tensor([[10.],\n",
       "        [ 6.],\n",
       "        [ 8.],\n",
       "        ...,\n",
       "        [ 2.],\n",
       "        [ 1.],\n",
       "        [ 1.]])"
      ]
     },
     "execution_count": 11,
     "metadata": {},
     "output_type": "execute_result"
    }
   ],
   "source": [
    "# Edge attributes: synaptic weights of each edge (strength of connectivity)\n",
    "graph.edge_attr"
   ]
  },
  {
   "cell_type": "markdown",
   "metadata": {},
   "source": [
    "### Link prediction model\n",
    "We are finally ready to start building our graph neural network. Our graph neural network will consist of **Graph Convolution layers** (torch_geometric.conv.GCNConv). In a graph convolution layer, each node aggregates information from its neighboring nodes to update its feature representation. This process leverages the graph's connectivity structure, encoded in our graph Data object, to perform weighted sums of the neighbor node features.  By stacking multiple graph convolution layers, a GNN can capture and propagate information over larger graph neighborhoods, enabling effective learning of node embeddings that reflect both node attributes and the graph structure. \n",
    "\n",
    "Follow conv1 with nonlinear activation, in our case a relu  \n",
    "TODO: Ref for eq below"
   ]
  },
  {
   "cell_type": "markdown",
   "metadata": {},
   "source": [
    "![alt text](GNNTutorial_1.jpg \"Title\")"
   ]
  },
  {
   "cell_type": "code",
   "execution_count": 12,
   "metadata": {},
   "outputs": [],
   "source": [
    "# Link prediction model - code adapted from https://gist.github.com/tomonori-masui/144c2057a64ec892a0a88066607eb3d2#file-link_predictor-py \n",
    "from sklearn.metrics import roc_auc_score\n",
    "from torch_geometric.utils import negative_sampling\n",
    "\n",
    "\n",
    "class Net(torch.nn.Module):\n",
    "    def __init__(self, in_channels, hidden_channels, out_channels):\n",
    "        super().__init__()\n",
    "        self.conv1 = GCNConv(in_channels, hidden_channels) # Graph convolution layer 1\n",
    "        self.conv2 = GCNConv(hidden_channels, out_channels) # Graph convolution layer 2\n",
    "\n",
    "    def encode(self, x, edge_index):\n",
    "        x = self.conv1(x, edge_index).relu()\n",
    "        return self.conv2(x, edge_index)\n",
    "\n",
    "    def decode(self, z, edge_label_index):\n",
    "        return (z[edge_label_index[0]] * z[edge_label_index[1]]).sum(\n",
    "            dim=-1\n",
    "        )  # product of a pair of nodes on each edge\n",
    "\n",
    "    def decode_all(self, z):\n",
    "        prob_adj = z @ z.t()\n",
    "        return (prob_adj > 0).nonzero(as_tuple=False).t()\n"
   ]
  },
  {
   "cell_type": "code",
   "execution_count": null,
   "metadata": {},
   "outputs": [],
   "source": [
    "def train_link_predictor(\n",
    "    model, train_data, val_data, optimizer, criterion, n_epochs=300\n",
    "):\n",
    "\n",
    "    train_losses = []\n",
    "    val_losses = []\n",
    "    for epoch in range(1, n_epochs + 1):\n",
    "\n",
    "        model.train()\n",
    "        optimizer.zero_grad()\n",
    "        z = model.encode(train_data.x, train_data.edge_index)\n",
    "\n",
    "        # sampling training negatives for every training epoch\n",
    "        neg_edge_index = negative_sampling(\n",
    "            edge_index=train_data.edge_index, num_nodes=train_data.num_nodes,\n",
    "            num_neg_samples=train_data.edge_label_index.size(1), method='sparse')\n",
    "\n",
    "        edge_label_index = torch.cat(\n",
    "            [train_data.edge_label_index, neg_edge_index],\n",
    "            dim=-1,\n",
    "        )\n",
    "        edge_label = torch.cat([\n",
    "            train_data.edge_label,\n",
    "            train_data.edge_label.new_zeros(neg_edge_index.size(1))\n",
    "        ], dim=0)\n",
    "\n",
    "        out = model.decode(z, edge_label_index).view(-1)\n",
    "        loss = criterion(out, edge_label)\n",
    "        loss.backward()\n",
    "        optimizer.step()\n",
    "\n",
    "        val_auc, _, _ = eval_link_predictor(model, val_data)\n",
    "\n",
    "        train_losses.append(loss.detach().numpy())\n",
    "        val_losses.append(val_auc)\n",
    "\n",
    "        if epoch % 10 == 0:\n",
    "            print(f\"Epoch: {epoch:03d}\")\n",
    "\n",
    "    return model, train_losses, val_losses\n",
    "\n",
    "\n",
    "@torch.no_grad()\n",
    "def eval_link_predictor(model, data):\n",
    "\n",
    "    model.eval()\n",
    "    z = model.encode(data.x, data.edge_index)\n",
    "    out = model.decode(z, data.edge_label_index).view(-1).sigmoid()\n",
    "\n",
    "    return roc_auc_score(data.edge_label.cpu().numpy(), out.cpu().numpy()), data.edge_label.cpu().numpy(), out.cpu().numpy()"
   ]
  },
  {
   "cell_type": "code",
   "execution_count": 13,
   "metadata": {},
   "outputs": [],
   "source": [
    "import torch_geometric.transforms as T\n",
    "\n",
    "split = T.RandomLinkSplit(\n",
    "    num_val=0.05,\n",
    "    num_test=0.1,\n",
    "    is_undirected=True,\n",
    "    add_negative_train_samples=False,\n",
    "    neg_sampling_ratio=1.0,\n",
    ")\n",
    "train_data, val_data, test_data = split(graph)"
   ]
  },
  {
   "cell_type": "code",
   "execution_count": 14,
   "metadata": {},
   "outputs": [
    {
     "name": "stdout",
     "output_type": "stream",
     "text": [
      "train data: Data(edge_index=[2, 40214], edge_attr=[40214, 1], num_nodes=4067, x=[4067, 1265], edge_label=[20107], edge_label_index=[2, 20107])\n",
      "val data:Data(edge_index=[2, 40214], edge_attr=[40214, 1], num_nodes=4067, x=[4067, 1265], edge_label=[2364], edge_label_index=[2, 2364])\n",
      "test data:Data(edge_index=[2, 42578], edge_attr=[42578, 1], num_nodes=4067, x=[4067, 1265], edge_label=[4730], edge_label_index=[2, 4730])\n"
     ]
    }
   ],
   "source": [
    "print('train data: ' + str(train_data))\n",
    "print('val data:' + str(val_data))\n",
    "print('test data:' + str(test_data))"
   ]
  },
  {
   "cell_type": "code",
   "execution_count": 15,
   "metadata": {},
   "outputs": [
    {
     "name": "stdout",
     "output_type": "stream",
     "text": [
      "Epoch: 010\n",
      "Epoch: 020\n",
      "Epoch: 030\n",
      "Epoch: 040\n",
      "Epoch: 050\n",
      "Epoch: 060\n",
      "Epoch: 070\n",
      "Epoch: 080\n",
      "Epoch: 090\n",
      "Epoch: 100\n",
      "Epoch: 110\n",
      "Epoch: 120\n",
      "Epoch: 130\n",
      "Epoch: 140\n",
      "Epoch: 150\n",
      "Epoch: 160\n",
      "Epoch: 170\n",
      "Epoch: 180\n",
      "Epoch: 190\n",
      "Epoch: 200\n",
      "Epoch: 210\n",
      "Epoch: 220\n",
      "Epoch: 230\n",
      "Epoch: 240\n",
      "Epoch: 250\n",
      "Epoch: 260\n",
      "Epoch: 270\n",
      "Epoch: 280\n",
      "Epoch: 290\n",
      "Epoch: 300\n",
      "Final validation accuracy: 0.933\n"
     ]
    }
   ],
   "source": [
    "model = Net(len(all_unique_types), 128, 64).to('cpu')\n",
    "optimizer = torch.optim.Adam(params=model.parameters(), lr=0.01)\n",
    "criterion = torch.nn.BCEWithLogitsLoss()\n",
    "model, train_losses, val_losses = train_link_predictor(model, train_data, val_data, optimizer, criterion)\n",
    "\n",
    "test_auc, _, _ = eval_link_predictor(model, test_data)\n",
    "print(f\"Final validation accuracy: {test_auc:.3f}\")"
   ]
  },
  {
   "cell_type": "code",
   "execution_count": 16,
   "metadata": {},
   "outputs": [
    {
     "data": {
      "text/plain": [
       "Text(0, 0.5, 'AUC')"
      ]
     },
     "execution_count": 16,
     "metadata": {},
     "output_type": "execute_result"
    },
    {
     "data": {
      "image/png": "[encoded data removed]",
      "text/plain": [
       "<Figure size 1000x500 with 2 Axes>"
      ]
     },
     "metadata": {},
     "output_type": "display_data"
    }
   ],
   "source": [
    "# Plot losses\n",
    "fig, ax = plt.subplots(1, 2, figsize=(10, 5))\n",
    "ax[0].plot(train_losses, label='train loss')\n",
    "ax[1].plot(val_losses, label='validation accuracy (auc)')\n",
    "ax[0].set_title('Training loss')\n",
    "ax[1].set_title('Validation accuracy')\n",
    "\n",
    "ax[0].set_xlabel('Epoch')\n",
    "ax[1].set_xlabel('Epoch')\n",
    "\n",
    "ax[0].set_ylabel('Loss')\n",
    "ax[1].set_ylabel('AUC')"
   ]
  },
  {
   "cell_type": "code",
   "execution_count": 17,
   "metadata": {},
   "outputs": [],
   "source": [
    "# Plot predicted links and actual edges in held out data\n",
    "# TODO: make this visually more intuitive\n",
    "_, actual_links, predicted_links,  = eval_link_predictor(model, test_data)"
   ]
  },
  {
   "cell_type": "code",
   "execution_count": 19,
   "metadata": {},
   "outputs": [
    {
     "data": {
      "text/plain": [
       "Text(0.5, 0, 'Predicted link probabilities')"
      ]
     },
     "execution_count": 19,
     "metadata": {},
     "output_type": "execute_result"
    },
    {
     "data": {
      "image/png": "[encoded data removed]",
      "text/plain": [
       "<Figure size 1000x500 with 2 Axes>"
      ]
     },
     "metadata": {},
     "output_type": "display_data"
    }
   ],
   "source": [
    "split = int(len(actual_links)/2)\n",
    "fig, ax = plt.subplots(1, 2, figsize=(10, 5))\n",
    "ax[0].hist(np.sort(predicted_links[split:]))\n",
    "ax[1].hist(np.sort(predicted_links[:split]))\n",
    "\n",
    "ax[0].set_title('Nonexistent edges')\n",
    "ax[1].set_title('Existent edges')\n",
    "\n",
    "ax[0].set_ylabel('Count')\n",
    "ax[1].set_ylabel('Count')\n",
    "\n",
    "ax[0].set_xlabel('Predicted link probabilities')\n",
    "ax[1].set_xlabel('Predicted link probabilities')"
   ]
  },
  {
   "cell_type": "markdown",
   "metadata": {},
   "source": [
    "### Ideas\n",
    "Full dataset"
   ]
  },
  {
   "cell_type": "markdown",
   "metadata": {},
   "source": [
    "### References"
   ]
  },
  {
   "cell_type": "markdown",
   "metadata": {},
   "source": [
    "https://distill.pub/2021/gnn-intro/ (Great introduction to the concepts behind GNNs)  \n",
    "https://arxiv.org/abs/1609.02907 (Paper with implementation details of graph convolutional layers)"
   ]
  },
  {
   "cell_type": "code",
   "execution_count": null,
   "metadata": {},
   "outputs": [],
   "source": []
  },
  {
   "cell_type": "markdown",
   "metadata": {},
   "source": []
  }
 ],
 "metadata": {
  "kernelspec": {
   "display_name": "igtorch",
   "language": "python",
   "name": "python3"
  },
  "language_info": {
   "codemirror_mode": {
    "name": "ipython",
    "version": 3
   },
   "file_extension": ".py",
   "mimetype": "text/x-python",
   "name": "python",
   "nbconvert_exporter": "python",
   "pygments_lexer": "ipython3",
   "version": "3.10.6"
  }
 },
 "nbformat": 4,
 "nbformat_minor": 2
}
